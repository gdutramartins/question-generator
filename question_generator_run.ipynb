{
  "nbformat": 4,
  "nbformat_minor": 0,
  "metadata": {
    "interpreter": {
      "hash": "d98a242ac794090856e709806b29087f488f332a8741802de50a95a2014dd36b"
    },
    "kernelspec": {
      "display_name": "Python 3.8.8 64-bit ('nlp-gpu': conda)",
      "name": "python3"
    },
    "language_info": {
      "codemirror_mode": {
        "name": "ipython",
        "version": 3
      },
      "file_extension": ".py",
      "mimetype": "text/x-python",
      "name": "python",
      "nbconvert_exporter": "python",
      "pygments_lexer": "ipython3",
      "version": "3.8.8"
    },
    "orig_nbformat": 4,
    "colab": {
      "name": "question_generator_run.ipynb",
      "provenance": [],
      "collapsed_sections": []
    },
    "accelerator": "GPU"
  },
  "cells": [
    {
      "cell_type": "markdown",
      "metadata": {
        "id": "QWjgKxyqkh0W"
      },
      "source": [
        "# Gerador de Perguntas Dinâmico Utilizando T5 e PTT5 em Português/Inglês \n",
        "## Parte 3 - Gerando Perguntas"
      ]
    },
    {
      "cell_type": "markdown",
      "metadata": {
        "id": "h6Fjex5GkhwY"
      },
      "source": [
        "*Baseado no incrível trabalho realizado por Suraj Patil* -  [Question Generation \n",
        "Using Transformers](https://github.com/patil-suraj/question_generation)  \n",
        "\n",
        "--- \n"
      ]
    },
    {
      "cell_type": "code",
      "metadata": {
        "colab": {
          "base_uri": "https://localhost:8080/"
        },
        "id": "mCYEDGatPsYO",
        "outputId": "9129961f-7676-4dfa-89b8-ec70c5e54038"
      },
      "source": [
        "from google.colab import drive\n",
        "drive.mount('/content/drive')"
      ],
      "execution_count": 1,
      "outputs": [
        {
          "output_type": "stream",
          "text": [
            "Drive already mounted at /content/drive; to attempt to forcibly remount, call drive.mount(\"/content/drive\", force_remount=True).\n"
          ],
          "name": "stdout"
        }
      ]
    },
    {
      "cell_type": "code",
      "metadata": {
        "id": "o6VZoHvXC7vE"
      },
      "source": [
        "import sys\n",
        "sys.path.insert(0,'/content/drive/My Drive/python/question-generator')"
      ],
      "execution_count": 2,
      "outputs": []
    },
    {
      "cell_type": "code",
      "metadata": {
        "id": "sIdBLMMWbHy7"
      },
      "source": [
        "!pip install transformers\n",
        "!pip install nlp\n",
        "!pip install sentencepiece\n",
        "!pip install datasets"
      ],
      "execution_count": null,
      "outputs": []
    },
    {
      "cell_type": "code",
      "metadata": {
        "id": "p1KulSCMPj3z"
      },
      "source": [
        "import os\n",
        "\n",
        "from e2e_qg_pipeline import E2EQGPipeline"
      ],
      "execution_count": 3,
      "outputs": []
    },
    {
      "cell_type": "code",
      "metadata": {
        "id": "7ARwmwZRPj30"
      },
      "source": [
        "GDRIVE_PATH = '/content/drive/MyDrive'\n",
        "\n",
        "MODEL_PTT5_BASE = 'unicamp-dl/ptt5-base-portuguese-vocab'\n",
        "MODEL_PTT5_LARGE = 'unicamp-dl/ptt5-large-portuguese-vocab'\n",
        "MODEL_T5_BASE= \"t5-base\"\n",
        "\n",
        "MODEL_ROOT_PATH = os.path.join(GDRIVE_PATH, 'model')\n",
        "\n",
        "LANGUAGE_PORTUGUES = \"pt_br\"\n",
        "LANGUAGE_ENGLISH = \"en\"\n",
        "\n",
        "MAX_SOURCE_LENGTH=512\n",
        "MAX_TARGET_LENGTH=32"
      ],
      "execution_count": 4,
      "outputs": []
    },
    {
      "cell_type": "markdown",
      "metadata": {
        "id": "8fFOTmKEkwO-"
      },
      "source": [
        "### Modelo em Português"
      ]
    },
    {
      "cell_type": "code",
      "metadata": {
        "id": "k4KI66nJPj32"
      },
      "source": [
        "model_path_pt_br = MODEL_PTT5_BASE #MODEL_T5_BASE #MODEL_PTT5_LARGE\n",
        "model_name_pt_br = model_path_pt_br.split(sep=\"/\")[-1]\n",
        "model_path_pt_br = os.path.join(MODEL_ROOT_PATH, model_name_pt_br + '-qg')\n",
        "\n",
        "e2e_qg_pt_br = E2EQGPipeline(model_path_or_name=model_path_pt_br,\n",
        "                       tokenizer_path_or_name=model_path_pt_br,\n",
        "                       use_cuda=True,\n",
        "                       language=LANGUAGE_PORTUGUES)"
      ],
      "execution_count": 5,
      "outputs": []
    },
    {
      "cell_type": "markdown",
      "metadata": {
        "id": "s-aSmhqKBrr-"
      },
      "source": [
        "##### Textos em portugês para geração de perguntas"
      ]
    },
    {
      "cell_type": "code",
      "metadata": {
        "id": "dRSQe0AvPj32"
      },
      "source": [
        "texts_pt_br = []\n",
        "\n",
        "texts_pt_br.append(\"Python é uma linguagem de programação interpretada, de alto nível e de uso geral. Criado por Guido van Rossum \\\n",
        "e lançado pela primeira vez em 1991, a filosofia de design do Python enfatiza o código \\\n",
        "legibilidade com seu uso notável de espaços em branco significativos.\")\n",
        "\n",
        "texts_pt_br.append(\"Gravidade do latim gravitas, que significa 'peso', ou gravitação, é um fenômeno natural pelo qual todos \\\n",
        "coisas com massa ou energia, incluindo planetas, estrelas, galáxias e até mesmo luz são trazidas para  \\\n",
        "um outro. Na Terra, a gravidade dá peso aos objetos físicos, e a gravidade da Lua causa as marés do oceano. \\\n",
        "A atração gravitacional da matéria gasosa original presente no Universo fez com que ela começasse a coalescer \\\n",
        "e formando estrelas e fazendo com que as estrelas se agrupassem em galáxias, então a gravidade é responsável por muitos de \\\n",
        "as estruturas em grande escala do Universo. A gravidade tem alcance infinito, embora seus efeitos sejam cada vez mais \\\n",
        "mais fraco à medida que os objetos se distanciam\")\n",
        "\n",
        "texts_pt_br.append(\"42 é a resposta para a vida, universo e tudo.\")\n",
        "\n",
        "texts_pt_br.append(\"Forrest Gump é um filme de comédia e drama americano de 1994 dirigido por Robert Zemeckis e escrito por Eric Roth. \\\n",
        "É baseado no romance homônimo de 1986 de Winston Groom e é estrelado por Tom Hanks, Robin Wright, Gary Sinise, \\\n",
        "Mykelti Williamson e Sally Field. A história retrata várias décadas da vida de Forrest Gump , \\\n",
        "um homem de raciocínio lento, mas de bom coração, do Alabama, que testemunha e influencia inconscientemente várias \\\n",
        "eventos históricos nos Estados Unidos do século XX. O filme difere substancialmente do romance.\")\n",
        "\n",
        "texts_pt_br.append(\"Arquitetonicamente, a escola tem um car\\u00e1ter cat\\u00f3lico. No topo da c\\u00fapula de ouro do edif\\u00edcio principal est\\u00e1 uma est\\u00e1tua de ouro da Virgem Maria. \\\n",
        "                    Imediatamente em frente ao edif\\u00edcio principal e de frente para ele, est\\u00e1 uma est\\u00e1tua de Cristo de cobre com os bra\\u00e7os erguidos com a lenda \\\"Venite Ad Me Omnes\\\". \\\n",
        "                    Ao lado do edif\\u00edcio principal \\u00e9 a Bas\\u00edlica do Sagrado Cora\\u00e7\\u00e3o. Imediatamente atr\\u00e1s da bas\\u00edlica fica a Gruta, um local mariano de ora\\u00e7\\u00e3o e reflex\\u00e3o. \\\n",
        "                    \\u00c9 uma r\\u00e9plica da gruta de Lourdes, na Fran\\u00e7a, onde a Virgem Maria apareceu para Santa Bernadette Soubirous em 1858. \\\n",
        "                    No final da estrada principal (e em uma linha direta que liga tr\\u00eas est\\u00e1tuas ao Domo de Ouro), existe uma est\\u00e1tua de pedra simples e moderna de Maria\")\n",
        "\n",
        "texts_pt_br.append(\"Tétano é uma infeção bacteriana grave caracterizada por espasmos musculares. \\\n",
        "         No tipo mais comum, os espasmos têm início no maxilar e progridem para o resto do corpo. \\\n",
        "         Os episódios de espasmos têm geralmente a duração de alguns minutos e ocorrem com frequência durante três ou quatro semanas. \\\n",
        "         Os espasmos podem ser de tal forma intensos que podem provocar fraturas ósseas. \\\n",
        "         Os outros sintomas podem incluir febre, sudação, dor de cabeça, dificuldade ao engolir, hipertensão e aumento do ritmo cardíaco. \\\n",
        "         Os sintomas geralmente manifestam-se entre três a vinte e dois dias após a infeção. O recobro pode levar meses. Cerca de 10% das pessoas infectadas morrem.\")\n",
        "\n",
        "texts_pt_br.append(\"Os ventos alísios são ventos que ocorrem durante todo o mês nas regiões sub-tropicais, sendo muito comuns na América Central. \\\n",
        "         São o resultado da ascensão de massas de ar que convergem de zonas de alta pressão (anticiclónicas), nos trópicos, para zonas de baixa pressão (ciclónicas) no Equador, formando um ciclo. \\\n",
        "         São ventos úmidos, que provocam chuvas nos locais onde convergem. Por essa razão, a zona equatorial é a região das calmarias equatoriais chuvosas. \\\n",
        "         O Alísio de hemisfério Norte sopra de Nordeste para Sudoeste, enquanto o do hemisfério Sul sopra do Sudeste para o Noroeste. \\\n",
        "         A sua influência é mais marcante no clima de regiões costeiras e de baixa latitude, exercendo grande importância na meteorologia insular.\" )\n"
      ],
      "execution_count": 6,
      "outputs": []
    },
    {
      "cell_type": "code",
      "metadata": {
        "colab": {
          "base_uri": "https://localhost:8080/"
        },
        "id": "f_Uhjlb0lo77",
        "outputId": "fa53da75-2cc7-4287-8b4e-84864f392008"
      },
      "source": [
        "for texto in texts_pt_br:\n",
        "    print('Texto: ', texto)\n",
        "    print('Perguntas :', e2e_qg_pt_br(texto))\n",
        "    print('------------------------------------')"
      ],
      "execution_count": 7,
      "outputs": [
        {
          "output_type": "stream",
          "text": [
            "Texto:  Python é uma linguagem de programação interpretada, de alto nível e de uso geral. Criado por Guido van Rossum e lançado pela primeira vez em 1991, a filosofia de design do Python enfatiza o código legibilidade com seu uso notável de espaços em branco significativos.\n"
          ],
          "name": "stdout"
        },
        {
          "output_type": "stream",
          "text": [
            "/usr/local/lib/python3.7/dist-packages/transformers/models/t5/tokenization_t5.py:191: UserWarning: This sequence already has </s>. In future versions this behavior may lead to duplicated eos tokens being added.\n",
            "  f\"This sequence already has {self.eos_token}. In future versions this behavior may lead to duplicated eos tokens being added.\"\n",
            "/usr/local/lib/python3.7/dist-packages/torch/_tensor.py:575: UserWarning: floor_divide is deprecated, and will be removed in a future version of pytorch. It currently rounds toward 0 (like the 'trunc' function NOT 'floor'). This results in incorrect rounding for negative values.\n",
            "To keep the current behavior, use torch.div(a, b, rounding_mode='trunc'), or for actual floor division, use torch.div(a, b, rounding_mode='floor'). (Triggered internally at  /pytorch/aten/src/ATen/native/BinaryOps.cpp:467.)\n",
            "  return torch.floor_divide(self, other)\n"
          ],
          "name": "stderr"
        },
        {
          "output_type": "stream",
          "text": [
            "Perguntas : ['Quem criou o Python?', 'Em que ano o Python foi lançado pela primeira vez?']\n",
            "------------------------------------\n",
            "Texto:  Gravidade do latim gravitas, que significa 'peso', ou gravitação, é um fenômeno natural pelo qual todos coisas com massa ou energia, incluindo planetas, estrelas, galáxias e até mesmo luz são trazidas para  um outro. Na Terra, a gravidade dá peso aos objetos físicos, e a gravidade da Lua causa as marés do oceano. A atração gravitacional da matéria gasosa original presente no Universo fez com que ela começasse a coalescer e formando estrelas e fazendo com que as estrelas se agrupassem em galáxias, então a gravidade é responsável por muitos de as estruturas em grande escala do Universo. A gravidade tem alcance infinito, embora seus efeitos sejam cada vez mais mais fraco à medida que os objetos se distanciam\n",
            "Perguntas : ['Qual é o termo para gravitação?']\n",
            "------------------------------------\n",
            "Texto:  42 é a resposta para a vida, universo e tudo.\n",
            "Perguntas : ['Qual é a resposta para a vida, universo e tudo?']\n",
            "------------------------------------\n",
            "Texto:  Forrest Gump é um filme de comédia e drama americano de 1994 dirigido por Robert Zemeckis e escrito por Eric Roth. É baseado no romance homônimo de 1986 de Winston Groom e é estrelado por Tom Hanks, Robin Wright, Gary Sinise, Mykelti Williamson e Sally Field. A história retrata várias décadas da vida de Forrest Gump , um homem de raciocínio lento, mas de bom coração, do Alabama, que testemunha e influencia inconscientemente várias eventos históricos nos Estados Unidos do século XX. O filme difere substancialmente do romance.\n",
            "Perguntas : ['Qual é o nome do filme de 1994 dirigido por Zemeckis e escrito por Eric Roth?']\n",
            "------------------------------------\n",
            "Texto:  Arquitetonicamente, a escola tem um caráter católico. No topo da cúpula de ouro do edifício principal está uma estátua de ouro da Virgem Maria.                     Imediatamente em frente ao edifício principal e de frente para ele, está uma estátua de Cristo de cobre com os braços erguidos com a lenda \"Venite Ad Me Omnes\".                     Ao lado do edifício principal é a Basílica do Sagrado Coração. Imediatamente atrás da basílica fica a Gruta, um local mariano de oração e reflexão.                     É uma réplica da gruta de Lourdes, na França, onde a Virgem Maria apareceu para Santa Bernadette Soubirous em 1858.                     No final da estrada principal (e em uma linha direta que liga três estátuas ao Domo de Ouro), existe uma estátua de pedra simples e moderna de Maria\n",
            "Perguntas : ['Qual é o nome do local mariano de oração e reflexão?']\n",
            "------------------------------------\n",
            "Texto:  Tétano é uma infeção bacteriana grave caracterizada por espasmos musculares.          No tipo mais comum, os espasmos têm início no maxilar e progridem para o resto do corpo.          Os episódios de espasmos têm geralmente a duração de alguns minutos e ocorrem com frequência durante três ou quatro semanas.          Os espasmos podem ser de tal forma intensos que podem provocar fraturas ósseas.          Os outros sintomas podem incluir febre, sudação, dor de cabeça, dificuldade ao engolir, hipertensão e aumento do ritmo cardíaco.          Os sintomas geralmente manifestam-se entre três a vinte e dois dias após a infeção. O recobro pode levar meses. Cerca de 10% das pessoas infectadas morrem.\n",
            "Perguntas : ['Qual é o nome da infeção bacteriana grave caracterizada por espasmos musculares?']\n",
            "------------------------------------\n",
            "Texto:  Os ventos alísios são ventos que ocorrem durante todo o mês nas regiões sub-tropicais, sendo muito comuns na América Central.          São o resultado da ascensão de massas de ar que convergem de zonas de alta pressão (anticiclónicas), nos trópicos, para zonas de baixa pressão (ciclónicas) no Equador, formando um ciclo.          São ventos úmidos, que provocam chuvas nos locais onde convergem. Por essa razão, a zona equatorial é a região das calmarias equatoriais chuvosas.          O Alísio de hemisfério Norte sopra de Nordeste para Sudoeste, enquanto o do hemisfério Sul sopra do Sudeste para o Noroeste.          A sua influência é mais marcante no clima de regiões costeiras e de baixa latitude, exercendo grande importância na meteorologia insular.\n",
            "Perguntas : ['Que tipo de ventos ocorrem durante todo o mês nas regiões sub-tropicais?']\n",
            "------------------------------------\n"
          ],
          "name": "stdout"
        }
      ]
    },
    {
      "cell_type": "markdown",
      "metadata": {
        "id": "mTb8ErEzlFcK"
      },
      "source": [
        "### Modelo em Inglês"
      ]
    },
    {
      "cell_type": "code",
      "metadata": {
        "id": "Nzda9HI4lOe9"
      },
      "source": [
        "model_path_en = MODEL_T5_BASE\n",
        "model_name_en = model_path_en.split(sep=\"/\")[-1]\n",
        "model_path_en = os.path.join(MODEL_ROOT_PATH, model_name_en + '-qg')\n",
        "\n",
        "e2e_qg_en = E2EQGPipeline(model_path_or_name=model_path_en,\n",
        "                       tokenizer_path_or_name=model_path_en,\n",
        "                       use_cuda=True,\n",
        "                       language=LANGUAGE_ENGLISH)"
      ],
      "execution_count": 6,
      "outputs": []
    },
    {
      "cell_type": "markdown",
      "metadata": {
        "id": "1GQ1XxLlB77X"
      },
      "source": [
        "##### Textos em Inglês"
      ]
    },
    {
      "cell_type": "code",
      "metadata": {
        "id": "bnveTdo6B8ql"
      },
      "source": [
        "texts_en = []\n",
        "\n",
        "texts_en.append(\"Python is an interpreted, high-level, general-purpose programming language. Created by Guido van Rossum \\\n",
        "and first released in 1991, Python's design philosophy emphasizes code \\\n",
        "readability with its notable use of significant whitespace.\")\n",
        "\n",
        "texts_en.append(\"Gravity (from Latin gravitas, meaning 'weight'), or gravitation, is a natural phenomenon by which all \\\n",
        "things with mass or energy—including planets, stars, galaxies, and even light—are brought toward (or gravitate toward) \\\n",
        "one another. On Earth, gravity gives weight to physical objects, and the Moon's gravity causes the ocean tides. \\\n",
        "The gravitational attraction of the original gaseous matter present in the Universe caused it to begin coalescing \\\n",
        "and forming stars and caused the stars to group together into galaxies, so gravity is responsible for many of \\\n",
        "the large-scale structures in the Universe. Gravity has an infinite range, although its effects become increasingly \\\n",
        "weaker as objects get further away\")\n",
        "\n",
        "texts_en.append(\"42 is the answer to life, universe and everything.\")\n",
        "\n",
        "texts_en.append(\"Forrest Gump is a 1994 American comedy-drama film directed by Robert Zemeckis and written by Eric Roth. \\\n",
        "It is based on the 1986 novel of the same name by Winston Groom and stars Tom Hanks, Robin Wright, Gary Sinise, \\\n",
        "Mykelti Williamson and Sally Field. The story depicts several decades in the life of Forrest Gump (Hanks), \\\n",
        "a slow-witted but kind-hearted man from Alabama who witnesses and unwittingly influences several defining \\\n",
        "historical events in the 20th century United States. The film differs substantially from the novel.\")"
      ],
      "execution_count": 7,
      "outputs": []
    },
    {
      "cell_type": "code",
      "metadata": {
        "colab": {
          "base_uri": "https://localhost:8080/"
        },
        "id": "HlJW-upYPj33",
        "outputId": "1d89d3c0-8249-483b-f467-3b96f873799d"
      },
      "source": [
        "for texto in texts_en:\n",
        "    print('Texto: ', texto)\n",
        "    print('Perguntas :', e2e_qg_en(texto))\n",
        "    print('------------------------------------')"
      ],
      "execution_count": 8,
      "outputs": [
        {
          "output_type": "stream",
          "text": [
            "Texto:  Python is an interpreted, high-level, general-purpose programming language. Created by Guido van Rossum and first released in 1991, Python's design philosophy emphasizes code readability with its notable use of significant whitespace.\n"
          ],
          "name": "stdout"
        },
        {
          "output_type": "stream",
          "text": [
            "/usr/local/lib/python3.7/dist-packages/transformers/models/t5/tokenization_t5.py:191: UserWarning: This sequence already has </s>. In future versions this behavior may lead to duplicated eos tokens being added.\n",
            "  f\"This sequence already has {self.eos_token}. In future versions this behavior may lead to duplicated eos tokens being added.\"\n",
            "/usr/local/lib/python3.7/dist-packages/torch/_tensor.py:575: UserWarning: floor_divide is deprecated, and will be removed in a future version of pytorch. It currently rounds toward 0 (like the 'trunc' function NOT 'floor'). This results in incorrect rounding for negative values.\n",
            "To keep the current behavior, use torch.div(a, b, rounding_mode='trunc'), or for actual floor division, use torch.div(a, b, rounding_mode='floor'). (Triggered internally at  /pytorch/aten/src/ATen/native/BinaryOps.cpp:467.)\n",
            "  return torch.floor_divide(self, other)\n"
          ],
          "name": "stderr"
        },
        {
          "output_type": "stream",
          "text": [
            "Perguntas : ['Who created Python?', 'When was Python first released?', \"What is Python's design philosophy?\"]\n",
            "------------------------------------\n",
            "Texto:  Gravity (from Latin gravitas, meaning 'weight'), or gravitation, is a natural phenomenon by which all things with mass or energy—including planets, stars, galaxies, and even light—are brought toward (or gravitate toward) one another. On Earth, gravity gives weight to physical objects, and the Moon's gravity causes the ocean tides. The gravitational attraction of the original gaseous matter present in the Universe caused it to begin coalescing and forming stars and caused the stars to group together into galaxies, so gravity is responsible for many of the large-scale structures in the Universe. Gravity has an infinite range, although its effects become increasingly weaker as objects get further away\n",
            "Perguntas : ['What does the Latin word gravitas mean?', 'What does gravity do on Earth?', \"The Moon's gravity causes the ocean tides?\"]\n",
            "------------------------------------\n",
            "Texto:  42 is the answer to life, universe and everything.\n",
            "Perguntas : ['What is the answer to life, universe and everything?']\n",
            "------------------------------------\n",
            "Texto:  Forrest Gump is a 1994 American comedy-drama film directed by Robert Zemeckis and written by Eric Roth. It is based on the 1986 novel of the same name by Winston Groom and stars Tom Hanks, Robin Wright, Gary Sinise, Mykelti Williamson and Sally Field. The story depicts several decades in the life of Forrest Gump (Hanks), a slow-witted but kind-hearted man from Alabama who witnesses and unwittingly influences several defining historical events in the 20th century United States. The film differs substantially from the novel.\n",
            "Perguntas : ['Who directed the 1994 comedy-drama film Forrest Gump?', 'Who wrote the book of the same name?']\n",
            "------------------------------------\n"
          ],
          "name": "stdout"
        }
      ]
    },
    {
      "cell_type": "code",
      "metadata": {
        "id": "5nQVDI35iK8f"
      },
      "source": [
        ""
      ],
      "execution_count": null,
      "outputs": []
    }
  ]
}